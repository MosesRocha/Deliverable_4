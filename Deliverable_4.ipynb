{
  "nbformat": 4,
  "nbformat_minor": 0,
  "metadata": {
    "colab": {
      "provenance": []
    },
    "kernelspec": {
      "name": "python3",
      "display_name": "Python 3"
    },
    "language_info": {
      "name": "python"
    }
  },
  "cells": [
    {
      "cell_type": "code",
      "source": [
        "import random\n",
        "\n",
        "def main():\n",
        "    # Ensure user prompt is between 5 and 15\n",
        "    user_input = read_integer_input(5, 15)\n",
        "\n",
        "    # Generate random array\n",
        "    array = random_array(user_input)\n",
        "\n",
        "    # Write array elements\n",
        "    print(\"The elements of the array are:\")\n",
        "    print_array_elements(array)\n",
        "\n",
        "    # Calculates sum of array\n",
        "    sum_of_elements = calculate_array_sum(array)\n",
        "    print(\"The sum is:\", sum_of_elements)\n",
        "\n",
        "def read_integer_input(min_value, max_value):\n",
        "    while True:\n",
        "        try:\n",
        "            # Question displayed for user input and validates\n",
        "            value = int(input(\"Enter an integer between 5 and 15: \"))\n",
        "            if min_value <= value <= max_value:\n",
        "                return value\n",
        "            else:\n",
        "                print(\"Please enter an integer value between 5 and 15.\")\n",
        "        except ValueError:\n",
        "            print(\"Invalid input. Please enter an integer value.\")\n",
        "\n",
        "def random_array(length):\n",
        "    array = [random.randint(10, 50) for _ in range(length)]\n",
        "    return array\n",
        "\n",
        "def print_array_elements(array):\n",
        "    # Writes each element in array\n",
        "    print(\" \".join(str(element) for element in array))\n",
        "\n",
        "def calculate_array_sum(array):\n",
        "    # Sum all elements in array\n",
        "    return sum(array)\n",
        "\n",
        "if __name__ == \"__main__\":\n",
        "    main()\n"
      ],
      "metadata": {
        "id": "LWLkLYIa7yLe",
        "colab": {
          "base_uri": "https://localhost:8080/"
        },
        "outputId": "573236aa-defd-41c2-ef04-2f6eec45e4ff"
      },
      "execution_count": 4,
      "outputs": [
        {
          "output_type": "stream",
          "name": "stdout",
          "text": [
            "Enter an integer between 5 and 15: 77\n",
            "Please enter an integer value between 5 and 15.\n",
            "Enter an integer between 5 and 15: 89\n",
            "Please enter an integer value between 5 and 15.\n",
            "Enter an integer between 5 and 15: 5\n",
            "The elements of the array are:\n",
            "11 39 50 15 38\n",
            "The sum is: 153\n"
          ]
        }
      ]
    }
  ]
}